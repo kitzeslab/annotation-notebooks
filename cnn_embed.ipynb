{
 "cells": [
  {
   "cell_type": "markdown",
   "metadata": {},
   "source": [
    "# Example of generating embeddings from OpenSoundscape.CNN object"
   ]
  },
  {
   "cell_type": "code",
   "execution_count": 11,
   "metadata": {},
   "outputs": [],
   "source": [
    "from opensoundscape import Audio, Spectrogram, CNN, BoxedAnnotations\n",
    "\n",
    "import numpy as np\n",
    "import pandas as pd\n",
    "from glob import glob\n",
    "from pathlib import Path\n",
    "\n",
    "from matplotlib import pyplot as plt\n",
    "plt.rcParams['figure.figsize']=[15,5] #for big visuals\n",
    "%config InlineBackend.figure_format = 'retina'\n",
    "\n",
    "from copy import deepcopy\n",
    "from torch import nn"
   ]
  },
  {
   "cell_type": "markdown",
   "metadata": {},
   "source": [
    "### Load a CNN"
   ]
  },
  {
   "cell_type": "code",
   "execution_count": 12,
   "metadata": {},
   "outputs": [],
   "source": [
    "# load your CNN object (`load_model()`) or make a new one\n",
    "m = CNN('resnet18',classes=[0,1],sample_duration=2)"
   ]
  },
  {
   "cell_type": "markdown",
   "metadata": {},
   "source": [
    "### Remove classification head to use CNN for embedding"
   ]
  },
  {
   "cell_type": "code",
   "execution_count": 13,
   "metadata": {},
   "outputs": [],
   "source": [
    "# make a copy of the model object if you don't want to modify the original object\n",
    "embedder = deepcopy(m)\n",
    "\n",
    "# replace the \"classification head\" (final fully connected layer, for most CNNS) with a layer that returns the input unchanged\n",
    "# note that .fc is used in PyTorch for resnet architectures, but other architectures store this layer in potentially different ways\n",
    "embedder.network.fc = nn.Identity()"
   ]
  },
  {
   "cell_type": "markdown",
   "metadata": {},
   "source": [
    "### Generate embeddings"
   ]
  },
  {
   "cell_type": "code",
   "execution_count": 14,
   "metadata": {},
   "outputs": [
    {
     "data": {
      "application/vnd.jupyter.widget-view+json": {
       "model_id": "0b8a8ec4367a478abfd12d402f6b43cd",
       "version_major": 2,
       "version_minor": 0
      },
      "text/plain": [
       "  0%|          | 0/2 [00:00<?, ?it/s]"
      ]
     },
     "metadata": {},
     "output_type": "display_data"
    }
   ],
   "source": [
    "# create dataloader to generate batches of AudioSamples (copying this from .predict)\n",
    "dataloader = embedder.inference_dataloader_cls(\n",
    "    samples=['/Users/SML161/a.mp3'],\n",
    "    preprocessor=embedder.preprocessor,\n",
    ") # note that there are many more potential arguments (see CNN.predict documentation)\n",
    "\n",
    "# iterate dataloader and run inference (forward pass) to generate embeddings\n",
    "embeddings_array = embedder(dataloader) #equivalent to embedder.__call__(dataloader)\n",
    "\n",
    "# if you want a dataframe instead of an array, copy the index from the dataloader:\n",
    "df_index = dataloader.dataset.dataset.label_df.index\n",
    "embedding_df = pd.DataFrame(index=df_index, data=embeddings_array)\n"
   ]
  }
 ],
 "metadata": {
  "kernelspec": {
   "display_name": "opso_dev",
   "language": "python",
   "name": "python3"
  },
  "language_info": {
   "codemirror_mode": {
    "name": "ipython",
    "version": 3
   },
   "file_extension": ".py",
   "mimetype": "text/x-python",
   "name": "python",
   "nbconvert_exporter": "python",
   "pygments_lexer": "ipython3",
   "version": "3.9.13"
  }
 },
 "nbformat": 4,
 "nbformat_minor": 2
}
