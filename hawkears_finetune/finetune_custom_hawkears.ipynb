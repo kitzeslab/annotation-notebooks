{
 "cells": [
  {
   "cell_type": "markdown",
   "metadata": {},
   "source": [
    "# Fine-tune hawkears\n",
    "This notebook uses Hawkears v0.1.0 loaded from the bioacoustic model zoo and Opensoundscape 0.11.0. Note that changes to the implementation may be required for other veresions of HawkEars. "
   ]
  },
  {
   "cell_type": "markdown",
   "metadata": {},
   "source": [
    "imports"
   ]
  },
  {
   "cell_type": "code",
   "execution_count": 1,
   "metadata": {},
   "outputs": [],
   "source": [
    "from custom_lr_hawkears import CustomLRHawkEars\n",
    "import pandas as pd"
   ]
  },
  {
   "cell_type": "markdown",
   "metadata": {},
   "source": [
    "### load annotations\n",
    "\n",
    "this code assumes you have multi-hot labels arranged in a csv where the first 3 columns are\n",
    "file, start_time, end_time\n",
    "and there is one subsequent column per class, with 0 for absent / 1 for present\n",
    "see opensoundscape.org annotation tutorials for how to create labels in this format\n"
   ]
  },
  {
   "cell_type": "code",
   "execution_count": null,
   "metadata": {},
   "outputs": [],
   "source": [
    "train_df = pd.read_csv(\"path/to/train_multihot_labels.csv\", index_col=[0, 1, 2])\n",
    "val_df = pd.read_csv(\"path/to/validation_multihot_labels.csv\", index_col=[0, 1, 2])"
   ]
  },
  {
   "cell_type": "markdown",
   "metadata": {},
   "source": [
    "### initialize the custom model object\n",
    "Initialize the model object using the CustomLRHawkEars class defined in the custom_lr_hawkears.py file. This class modifies the default Hawkears by setting the feature extractor's learning rate to be 1/10th of the classifier's learning rate. It provides an implementation of change_classes() method that works with Hawkears' internal model ensemble.\n",
    "\n",
    "It will download the pre-trained checkpoints to the current working directory by default."
   ]
  },
  {
   "cell_type": "code",
   "execution_count": null,
   "metadata": {},
   "outputs": [
    {
     "name": "stdout",
     "output_type": "stream",
     "text": [
      "Downloading model from URL...\n",
      "Downloaded completed: hgnet1.ckpt\n",
      "Loading model from local checkpoint /Users/SML161/bioacoustics-cookbook/hawkears_finetune/hgnet1.ckpt...\n",
      "Downloading model from URL...\n"
     ]
    },
    {
     "name": "stderr",
     "output_type": "stream",
     "text": [
      "/Users/SML161/miniconda3/envs/opso0110/lib/python3.11/site-packages/bioacoustics_model_zoo/hawkears/hawkears.py:198: FutureWarning: You are using `torch.load` with `weights_only=False` (the current default value), which uses the default pickle module implicitly. It is possible to construct malicious pickle data which will execute arbitrary code during unpickling (See https://github.com/pytorch/pytorch/blob/main/SECURITY.md#untrusted-models for more details). In a future release, the default value for `weights_only` will be flipped to `True`. This limits the functions that could be executed during unpickling. Arbitrary objects will no longer be allowed to be loaded via this mode unless they are explicitly allowlisted by the user via `torch.serialization.add_safe_globals`. We recommend you start setting `weights_only=True` for any use case where you don't have full control of the loaded file. Please open an issue on GitHub for any issues related to this experimental feature.\n",
      "  mdict = torch.load(model_path, map_location=torch.device(\"cpu\"))\n"
     ]
    },
    {
     "name": "stdout",
     "output_type": "stream",
     "text": [
      "Downloaded completed: hgnet2.ckpt\n",
      "Loading model from local checkpoint /Users/SML161/bioacoustics-cookbook/hawkears_finetune/hgnet2.ckpt...\n",
      "Downloading model from URL...\n",
      "Downloaded completed: hgnet3.ckpt\n",
      "Loading model from local checkpoint /Users/SML161/bioacoustics-cookbook/hawkears_finetune/hgnet3.ckpt...\n",
      "Downloading model from URL...\n",
      "Downloaded completed: hgnet4.ckpt\n",
      "Loading model from local checkpoint /Users/SML161/bioacoustics-cookbook/hawkears_finetune/hgnet4.ckpt...\n",
      "Downloading model from URL...\n",
      "Downloaded completed: hgnet5.ckpt\n",
      "Loading model from local checkpoint /Users/SML161/bioacoustics-cookbook/hawkears_finetune/hgnet5.ckpt...\n"
     ]
    },
    {
     "name": "stderr",
     "output_type": "stream",
     "text": [
      "/Users/SML161/miniconda3/envs/opso0110/lib/python3.11/site-packages/opensoundscape/ml/cnn.py:621: UserWarning: \n",
      "                    This architecture is not listed in opensoundscape.ml.cnn_architectures.ARCH_DICT.\n",
      "                    It will not be available for loading after saving the model with .save() (unless using pickle=True). \n",
      "                    To make it re-loadable, define a function that generates the architecture from arguments: (n_classes, n_channels) \n",
      "                    then use opensoundscape.ml.cnn_architectures.register_architecture() to register the generating function.\n",
      "\n",
      "                    The function can also set the returned object's .constructor_name to the registered string key in ARCH_DICT\n",
      "                    to avoid this warning and ensure it is reloaded correctly by opensoundscape.ml.load_model().\n",
      "\n",
      "                    See opensoundscape.ml.cnn_architectures module for examples of constructor functions\n",
      "                    \n",
      "  warnings.warn(\n",
      "/Users/SML161/miniconda3/envs/opso0110/lib/python3.11/site-packages/opensoundscape/ml/cnn.py:645: UserWarning: Failed to detect expected # input channels of this architecture.Make sure your architecture expects the number of channels equal to `channels` argument 1). Pytorch architectures generally expect 3 channels by default.\n",
      "  warnings.warn(\n"
     ]
    }
   ],
   "source": [
    "hawkears = CustomLRHawkEars()\n",
    "# change the output classes from the default set of species to the ones we are fine-tuning on\n",
    "hawkears.change_classes([\"SpecialBirdCall\"])"
   ]
  },
  {
   "cell_type": "markdown",
   "metadata": {},
   "source": [
    "Train the custom architecture"
   ]
  },
  {
   "cell_type": "code",
   "execution_count": null,
   "metadata": {},
   "outputs": [],
   "source": [
    "# train\n",
    "hawkears.train(\n",
    "    train_df=train_df,\n",
    "    validation_df=val_df,\n",
    "    epochs=10,\n",
    "    batch_size=64,\n",
    "    num_workers=8,\n",
    "    save_interval=10,\n",
    "    save_path=\"/path/to/save/dir\",\n",
    ")"
   ]
  }
 ],
 "metadata": {
  "kernelspec": {
   "display_name": "opso0110",
   "language": "python",
   "name": "python3"
  },
  "language_info": {
   "codemirror_mode": {
    "name": "ipython",
    "version": 3
   },
   "file_extension": ".py",
   "mimetype": "text/x-python",
   "name": "python",
   "nbconvert_exporter": "python",
   "pygments_lexer": "ipython3",
   "version": "3.11.10"
  }
 },
 "nbformat": 4,
 "nbformat_minor": 2
}
