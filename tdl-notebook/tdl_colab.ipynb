{
  "cells": [
    {
      "cell_type": "markdown",
      "metadata": {
        "id": "view-in-github",
        "colab_type": "text"
      },
      "source": [
        "<a href=\"https://colab.research.google.com/github/LeonardoViotti/tdl-notebook/blob/main/tdl_colab.ipynb\" target=\"_parent\"><img src=\"https://colab.research.google.com/assets/colab-badge.svg\" alt=\"Open In Colab\"/></a>"
      ]
    },
    {
      "cell_type": "markdown",
      "id": "93042ce3-206f-4392-bb8a-5a0e133bbc41",
      "metadata": {
        "id": "93042ce3-206f-4392-bb8a-5a0e133bbc41",
        "tags": []
      },
      "source": [
        "## Globals"
      ]
    },
    {
      "cell_type": "markdown",
      "source": [
        "Change to the name of your folder on Google Drive:"
      ],
      "metadata": {
        "id": "I4doku_B9KxQ"
      },
      "id": "I4doku_B9KxQ"
    },
    {
      "cell_type": "code",
      "source": [
        "google_drive_folder = 'my-tdl-folder'"
      ],
      "metadata": {
        "id": "YXCmpJVS9Q1r"
      },
      "id": "YXCmpJVS9Q1r",
      "execution_count": null,
      "outputs": []
    },
    {
      "cell_type": "markdown",
      "source": [
        "Change to `True` if you're running this in your machine (Not on Colab)"
      ],
      "metadata": {
        "id": "rHFqoG0c9CZC"
      },
      "id": "rHFqoG0c9CZC"
    },
    {
      "cell_type": "code",
      "execution_count": null,
      "id": "7d71ebfa-24a6-468a-a326-f8fb271900d7",
      "metadata": {
        "id": "7d71ebfa-24a6-468a-a326-f8fb271900d7"
      },
      "outputs": [],
      "source": [
        "LOCAL = False"
      ]
    },
    {
      "cell_type": "markdown",
      "id": "34f8873a-6587-4b97-be33-5bf8034fd64f",
      "metadata": {
        "id": "34f8873a-6587-4b97-be33-5bf8034fd64f"
      },
      "source": [
        "\n",
        "## Mount Google Drive"
      ]
    },
    {
      "cell_type": "code",
      "execution_count": null,
      "id": "PYNEnYEbEqF1",
      "metadata": {
        "id": "PYNEnYEbEqF1"
      },
      "outputs": [],
      "source": [
        "if not LOCAL:\n",
        "    from google.colab import drive\n",
        "    mount = '/content/drive'\n",
        "    drive.mount(mount)\n",
        "else:\n",
        "    # folder_data = str(input(f\"Enter audio data path:\").strip())\n",
        "    folder_data = 'path/to/your/local/data/here'"
      ]
    },
    {
      "cell_type": "markdown",
      "id": "40efa6a5-8d7e-4403-9170-1416c3a0643f",
      "metadata": {
        "id": "40efa6a5-8d7e-4403-9170-1416c3a0643f"
      },
      "source": [
        "## Install opensoundscape in this CoLab environment"
      ]
    },
    {
      "cell_type": "code",
      "execution_count": null,
      "id": "HpLZP8Tf3fxW",
      "metadata": {
        "id": "HpLZP8Tf3fxW",
        "tags": []
      },
      "outputs": [],
      "source": [
        "if not LOCAL:\n",
        "    !pip install -q opensoundscape==0.9.1"
      ]
    },
    {
      "cell_type": "markdown",
      "id": "kxH4dd3KDgh9",
      "metadata": {
        "id": "kxH4dd3KDgh9"
      },
      "source": [
        "## Import libraries and set-up global configurations"
      ]
    },
    {
      "cell_type": "code",
      "execution_count": null,
      "id": "MRml2t2KDPy4",
      "metadata": {
        "id": "MRml2t2KDPy4"
      },
      "outputs": [],
      "source": [
        "import os\n",
        "\n",
        "from opensoundscape.spectrogram import Spectrogram\n",
        "from opensoundscape.audio import Audio\n",
        "import pandas as pd\n",
        "import matplotlib.pyplot as plt\n",
        "import IPython.display as ipd\n",
        "\n",
        "# %matplotlib inline\n",
        "# %config InlineBackend.figure_format = 'retina'\n",
        "plt.rcParams['figure.figsize'] = [12,5]"
      ]
    },
    {
      "cell_type": "markdown",
      "source": [
        "## Load data"
      ],
      "metadata": {
        "id": "Fz75hxNiacMO"
      },
      "id": "Fz75hxNiacMO"
    },
    {
      "cell_type": "code",
      "execution_count": null,
      "id": "Ybf3ywbZMJ0M",
      "metadata": {
        "id": "Ybf3ywbZMJ0M"
      },
      "outputs": [],
      "source": [
        "if not LOCAL:\n",
        "    folder_scripts = os.path.join(mount, f'My Drive/{google_drive_folder}/scripts')\n",
        "    os.chdir(folder_scripts)\n",
        "\n",
        "    folder_data = os.path.join(mount, f'My Drive/{google_drive_folder}/')"
      ]
    },
    {
      "cell_type": "markdown",
      "id": "5vknAPdZUcdZ",
      "metadata": {
        "id": "5vknAPdZUcdZ"
      },
      "source": [
        "## Import custom modules"
      ]
    },
    {
      "cell_type": "code",
      "execution_count": null,
      "id": "cf65bfc1-cb6e-4e45-a0a5-d2c5792bf0af",
      "metadata": {
        "id": "cf65bfc1-cb6e-4e45-a0a5-d2c5792bf0af"
      },
      "outputs": [],
      "source": [
        "from annotation import *"
      ]
    },
    {
      "cell_type": "markdown",
      "id": "d4438bdb-9f3d-42c7-a32b-34e6531e33aa",
      "metadata": {
        "id": "d4438bdb-9f3d-42c7-a32b-34e6531e33aa",
        "tags": []
      },
      "source": [
        "## Annotation"
      ]
    },
    {
      "cell_type": "code",
      "execution_count": null,
      "id": "c8bead20-1910-41b0-9c45-08e0cdd02dbc",
      "metadata": {
        "id": "c8bead20-1910-41b0-9c45-08e0cdd02dbc",
        "tags": []
      },
      "outputs": [],
      "source": [
        "os.chdir(folder_data)\n",
        "annotate(scores_file ='clips/_scores.csv',\n",
        "         valid_annotations = [0,1,'u'],\n",
        "         skip_cols = ['card'],\n",
        "         n_positives = 5,\n",
        "         index_cols = ['relative_path'])"
      ]
    }
  ],
  "metadata": {
    "colab": {
      "provenance": [],
      "include_colab_link": true
    },
    "kernelspec": {
      "display_name": "Python 3 (ipykernel)",
      "language": "python",
      "name": "python3"
    },
    "language_info": {
      "codemirror_mode": {
        "name": "ipython",
        "version": 3
      },
      "file_extension": ".py",
      "mimetype": "text/x-python",
      "name": "python",
      "nbconvert_exporter": "python",
      "pygments_lexer": "ipython3",
      "version": "3.9.6"
    }
  },
  "nbformat": 4,
  "nbformat_minor": 5
}