{
 "cells": [
  {
   "cell_type": "markdown",
   "metadata": {
    "colab_type": "text",
    "id": "view-in-github"
   },
   "source": [
    "<a href=\"https://colab.research.google.com/github/LeonardoViotti/tdl-notebook/blob/colab/git.ipynb\" target=\"_parent\"><img src=\"https://colab.research.google.com/assets/colab-badge.svg\" alt=\"Open In Colab\"/></a>"
   ]
  },
  {
   "cell_type": "code",
   "execution_count": null,
   "metadata": {
    "id": "f0g_VQFdXb5P"
   },
   "outputs": [],
   "source": [
    "from google.colab import drive\n",
    "import os"
   ]
  },
  {
   "cell_type": "code",
   "execution_count": null,
   "metadata": {
    "colab": {
     "base_uri": "https://localhost:8080/"
    },
    "id": "t87zR8-fYhVS",
    "outputId": "de9311f3-a868-4c2e-867a-45281ec573f1"
   },
   "outputs": [],
   "source": [
    "mount = '/content/drive'\n",
    "drive.mount(mount)"
   ]
  },
  {
   "cell_type": "code",
   "execution_count": null,
   "metadata": {
    "colab": {
     "base_uri": "https://localhost:8080/"
    },
    "id": "SmvCHfNmX-xh",
    "outputId": "a412e8c9-eb79-4cd5-9969-55dfe2feb62b"
   },
   "outputs": [],
   "source": [
    "%cd /content/drive/MyDrive/tdl-notebook-test"
   ]
  },
  {
   "cell_type": "code",
   "execution_count": null,
   "metadata": {
    "colab": {
     "base_uri": "https://localhost:8080/"
    },
    "id": "dSLNy4T0YkFY",
    "outputId": "9eb5cf22-54f8-429d-9f20-74a00d33e418"
   },
   "outputs": [],
   "source": [
    "# ! git clone https://github.com/LeonardoViotti/tdl-notebook.git"
   ]
  },
  {
   "cell_type": "code",
   "execution_count": null,
   "metadata": {
    "colab": {
     "base_uri": "https://localhost:8080/"
    },
    "id": "e2LG3uqDZMIL",
    "outputId": "26f16619-2768-4896-ffc5-b05733da96e3"
   },
   "outputs": [],
   "source": [
    "%cd tdl-notebook/"
   ]
  },
  {
   "cell_type": "code",
   "execution_count": null,
   "metadata": {
    "colab": {
     "base_uri": "https://localhost:8080/"
    },
    "id": "q7fX-s4zEPvQ",
    "outputId": "3f15f8eb-9cee-4e0e-e25a-0385f41d3560"
   },
   "outputs": [],
   "source": [
    "! git checkout colab"
   ]
  },
  {
   "cell_type": "code",
   "execution_count": null,
   "metadata": {
    "colab": {
     "base_uri": "https://localhost:8080/"
    },
    "id": "ZMkGGWBwZQNi",
    "outputId": "ce3a6eeb-fcda-425a-ed16-85bc6f870123"
   },
   "outputs": [],
   "source": [
    "! git pull"
   ]
  }
 ],
 "metadata": {
  "colab": {
   "include_colab_link": true,
   "provenance": []
  },
  "kernelspec": {
   "display_name": "Python 3 (ipykernel)",
   "language": "python",
   "name": "python3"
  },
  "language_info": {
   "codemirror_mode": {
    "name": "ipython",
    "version": 3
   },
   "file_extension": ".py",
   "mimetype": "text/x-python",
   "name": "python",
   "nbconvert_exporter": "python",
   "pygments_lexer": "ipython3",
   "version": "3.10.12"
  }
 },
 "nbformat": 4,
 "nbformat_minor": 4
}
