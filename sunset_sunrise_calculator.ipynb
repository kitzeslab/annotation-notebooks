{
 "cells": [
  {
   "cell_type": "markdown",
   "id": "8a901f5d-c840-4127-bb8b-40d9da447e14",
   "metadata": {},
   "source": [
    "# sunrise and sunset calculation from coordinates\n",
    "\n",
    "This notebook uses the package `suntime` to calcualte sunset times at specific gps positions on specific dates. You need to install the package in your python environment, for instance: \n",
    "\n",
    "`pip install suntime`"
   ]
  },
  {
   "cell_type": "code",
   "execution_count": 1,
   "id": "81f59fbc-5045-4e2c-ba8d-7c6d57288b17",
   "metadata": {},
   "outputs": [],
   "source": [
    "import datetime\n",
    "import pytz\n",
    "import suntime\n",
    "import pandas as pd\n",
    "import numpy as np"
   ]
  },
  {
   "cell_type": "markdown",
   "id": "99c2db9b-d24c-456f-91a0-00fde349b7be",
   "metadata": {},
   "source": [
    "### Define GPS points\n",
    "Let's make up a set of random GPS points for the sake of demonstration\n",
    "\n",
    "In practice, you will probably load this informatino from a table using `pd.read_csv`. Take note of the column names for latitude and longitude, they are used below. \n",
    "- the values must be in decimal degrees, with West longitudes and South latitudes reported as negatives"
   ]
  },
  {
   "cell_type": "code",
   "execution_count": 2,
   "id": "3e732eda-5dec-495b-8e30-87e73dd006b2",
   "metadata": {
    "tags": []
   },
   "outputs": [
    {
     "data": {
      "text/html": [
       "<div>\n",
       "<style scoped>\n",
       "    .dataframe tbody tr th:only-of-type {\n",
       "        vertical-align: middle;\n",
       "    }\n",
       "\n",
       "    .dataframe tbody tr th {\n",
       "        vertical-align: top;\n",
       "    }\n",
       "\n",
       "    .dataframe thead th {\n",
       "        text-align: right;\n",
       "    }\n",
       "</style>\n",
       "<table border=\"1\" class=\"dataframe\">\n",
       "  <thead>\n",
       "    <tr style=\"text-align: right;\">\n",
       "      <th></th>\n",
       "      <th>point_name</th>\n",
       "      <th>latitude</th>\n",
       "      <th>longitude</th>\n",
       "    </tr>\n",
       "  </thead>\n",
       "  <tbody>\n",
       "    <tr>\n",
       "      <th>0</th>\n",
       "      <td>point_00</td>\n",
       "      <td>39.963356</td>\n",
       "      <td>-77.010932</td>\n",
       "    </tr>\n",
       "    <tr>\n",
       "      <th>1</th>\n",
       "      <td>point_01</td>\n",
       "      <td>40.546199</td>\n",
       "      <td>-77.101676</td>\n",
       "    </tr>\n",
       "    <tr>\n",
       "      <th>2</th>\n",
       "      <td>point_02</td>\n",
       "      <td>40.071716</td>\n",
       "      <td>-77.920263</td>\n",
       "    </tr>\n",
       "    <tr>\n",
       "      <th>3</th>\n",
       "      <td>point_03</td>\n",
       "      <td>39.632356</td>\n",
       "      <td>-78.042123</td>\n",
       "    </tr>\n",
       "    <tr>\n",
       "      <th>4</th>\n",
       "      <td>point_04</td>\n",
       "      <td>40.541967</td>\n",
       "      <td>-78.877888</td>\n",
       "    </tr>\n",
       "  </tbody>\n",
       "</table>\n",
       "</div>"
      ],
      "text/plain": [
       "  point_name   latitude  longitude\n",
       "0   point_00  39.963356 -77.010932\n",
       "1   point_01  40.546199 -77.101676\n",
       "2   point_02  40.071716 -77.920263\n",
       "3   point_03  39.632356 -78.042123\n",
       "4   point_04  40.541967 -78.877888"
      ]
     },
     "execution_count": 2,
     "metadata": {},
     "output_type": "execute_result"
    }
   ],
   "source": [
    "points = pd.DataFrame({\n",
    "    'point_name':[f\"point_{i:02n}\" for i in range(5)],\n",
    "    'latitude':np.random.uniform(39,41,5),\n",
    "    'longitude':np.random.uniform(-77,-79,5)\n",
    "})\n",
    "points"
   ]
  },
  {
   "cell_type": "markdown",
   "id": "8b51c8c9-da15-42ea-8e3e-1ddae169d0f6",
   "metadata": {},
   "source": [
    "### Create a list of the dates for which you want to know the sunset time:\n",
    "\n",
    "this code generates a list of four consecutive dates starting April 15 2020"
   ]
  },
  {
   "cell_type": "code",
   "execution_count": 3,
   "id": "dedf7043-98ef-4742-a6de-10fc25bc934a",
   "metadata": {
    "tags": []
   },
   "outputs": [],
   "source": [
    "first_date = datetime.date(2020,4,15)\n",
    "number_of_days = 4\n",
    "datelist = pd.date_range(first_date, periods=number_of_days).tolist()"
   ]
  },
  {
   "cell_type": "markdown",
   "id": "b4dfbd98-b17d-44a7-9f5e-aac4dcd27c86",
   "metadata": {
    "tags": []
   },
   "source": [
    "to use a list of specific dates, you could write them explicitly:"
   ]
  },
  {
   "cell_type": "code",
   "execution_count": 4,
   "id": "ad7bad3a-c4b7-4705-bdd5-8452337b6f34",
   "metadata": {
    "tags": []
   },
   "outputs": [],
   "source": [
    "# datelist = [\n",
    "#     datetime.date(2020,4,15),\n",
    "#     datetime.date(2020,4,20),\n",
    "#     datetime.date(2020,6,1),\n",
    "# ]"
   ]
  },
  {
   "cell_type": "markdown",
   "id": "29a8553d-0e2a-4975-bdd1-2d1282184bd3",
   "metadata": {},
   "source": [
    "### Select a time zone. \n",
    "\n",
    "The times output by the code will be given in the timezone that you define here. \n",
    "\n",
    "_To see a list of timezones that you can select, print `pytz.all_timezones`_"
   ]
  },
  {
   "cell_type": "code",
   "execution_count": 5,
   "id": "66b47096-85bb-4c08-9f76-6bc11b44a29a",
   "metadata": {},
   "outputs": [],
   "source": [
    "timezone = pytz.timezone('US/Eastern')"
   ]
  },
  {
   "cell_type": "markdown",
   "id": "ebd5e4dd-62d9-43f1-91e3-e08a7826813c",
   "metadata": {},
   "source": [
    "This cell defines a helper function to get the sunset time formatted as HH:MM:SS using the package suntime"
   ]
  },
  {
   "cell_type": "code",
   "execution_count": 6,
   "id": "1e0d9ff6-9373-4be3-ac41-777f136ef4a2",
   "metadata": {},
   "outputs": [],
   "source": [
    "def get_sunset(latitude,longitude,date):\n",
    "    \"\"\"calculate sunset time \"\"\"\n",
    "    sun = suntime.Sun(latitude, longitude)\n",
    "    today_ss = sun.get_sunset_time(date)\n",
    "    return today_ss.astimezone(timezone).strftime('%H:%M:%S')\n",
    "\n",
    "#here's the sunrise version\n",
    "def get_sunrise(latitude,longitude,date):\n",
    "    \"\"\"calculate sunset time \"\"\"\n",
    "    sun = suntime.Sun(latitude, longitude)\n",
    "    today_ss = sun.get_sunrise_time(date)\n",
    "    return today_ss.astimezone(timezone).strftime('%H:%M:%S')"
   ]
  },
  {
   "cell_type": "markdown",
   "id": "74aaab85-0af7-4287-be5f-589d24138c58",
   "metadata": {},
   "source": [
    "For each date, this cell will add a column to the `points` dataframe containing the sunset time at each location."
   ]
  },
  {
   "cell_type": "code",
   "execution_count": 7,
   "id": "e678f9d3-918f-4ed9-b20b-335c4fe56eac",
   "metadata": {},
   "outputs": [
    {
     "data": {
      "text/html": [
       "<div>\n",
       "<style scoped>\n",
       "    .dataframe tbody tr th:only-of-type {\n",
       "        vertical-align: middle;\n",
       "    }\n",
       "\n",
       "    .dataframe tbody tr th {\n",
       "        vertical-align: top;\n",
       "    }\n",
       "\n",
       "    .dataframe thead th {\n",
       "        text-align: right;\n",
       "    }\n",
       "</style>\n",
       "<table border=\"1\" class=\"dataframe\">\n",
       "  <thead>\n",
       "    <tr style=\"text-align: right;\">\n",
       "      <th></th>\n",
       "      <th>point_name</th>\n",
       "      <th>latitude</th>\n",
       "      <th>longitude</th>\n",
       "      <th>2020-04-15</th>\n",
       "      <th>2020-04-16</th>\n",
       "      <th>2020-04-17</th>\n",
       "      <th>2020-04-18</th>\n",
       "    </tr>\n",
       "  </thead>\n",
       "  <tbody>\n",
       "    <tr>\n",
       "      <th>0</th>\n",
       "      <td>point_00</td>\n",
       "      <td>39.963356</td>\n",
       "      <td>-77.010932</td>\n",
       "      <td>19:47:00</td>\n",
       "      <td>19:48:00</td>\n",
       "      <td>19:49:00</td>\n",
       "      <td>19:50:00</td>\n",
       "    </tr>\n",
       "    <tr>\n",
       "      <th>1</th>\n",
       "      <td>point_01</td>\n",
       "      <td>40.546199</td>\n",
       "      <td>-77.101676</td>\n",
       "      <td>19:48:00</td>\n",
       "      <td>19:49:00</td>\n",
       "      <td>19:50:00</td>\n",
       "      <td>19:51:00</td>\n",
       "    </tr>\n",
       "    <tr>\n",
       "      <th>2</th>\n",
       "      <td>point_02</td>\n",
       "      <td>40.071716</td>\n",
       "      <td>-77.920263</td>\n",
       "      <td>19:51:00</td>\n",
       "      <td>19:52:00</td>\n",
       "      <td>19:53:00</td>\n",
       "      <td>19:54:00</td>\n",
       "    </tr>\n",
       "    <tr>\n",
       "      <th>3</th>\n",
       "      <td>point_03</td>\n",
       "      <td>39.632356</td>\n",
       "      <td>-78.042123</td>\n",
       "      <td>19:51:00</td>\n",
       "      <td>19:52:00</td>\n",
       "      <td>19:53:00</td>\n",
       "      <td>19:54:00</td>\n",
       "    </tr>\n",
       "    <tr>\n",
       "      <th>4</th>\n",
       "      <td>point_04</td>\n",
       "      <td>40.541967</td>\n",
       "      <td>-78.877888</td>\n",
       "      <td>19:55:00</td>\n",
       "      <td>19:56:00</td>\n",
       "      <td>19:57:00</td>\n",
       "      <td>19:58:00</td>\n",
       "    </tr>\n",
       "  </tbody>\n",
       "</table>\n",
       "</div>"
      ],
      "text/plain": [
       "  point_name   latitude  longitude 2020-04-15 2020-04-16 2020-04-17 2020-04-18\n",
       "0   point_00  39.963356 -77.010932   19:47:00   19:48:00   19:49:00   19:50:00\n",
       "1   point_01  40.546199 -77.101676   19:48:00   19:49:00   19:50:00   19:51:00\n",
       "2   point_02  40.071716 -77.920263   19:51:00   19:52:00   19:53:00   19:54:00\n",
       "3   point_03  39.632356 -78.042123   19:51:00   19:52:00   19:53:00   19:54:00\n",
       "4   point_04  40.541967 -78.877888   19:55:00   19:56:00   19:57:00   19:58:00"
      ]
     },
     "execution_count": 7,
     "metadata": {},
     "output_type": "execute_result"
    }
   ],
   "source": [
    "sunset_times = points.copy()\n",
    "for d in datelist:\n",
    "    col_name = str(d.date()) #use the YYYY-MM-DD date format for the column name\n",
    "    sunset_times[col_name]=[\n",
    "        get_sunset(row['latitude'],row['longitude'],d) for _,row in sunset_times.iterrows()\n",
    "    ]\n",
    "sunset_times"
   ]
  },
  {
   "cell_type": "markdown",
   "id": "c2c86ab8-df48-4f32-80d6-65acfb005ab0",
   "metadata": {},
   "source": [
    "Repeat for sunrise"
   ]
  },
  {
   "cell_type": "code",
   "execution_count": 8,
   "id": "c092db49-a087-4c62-98ff-36447898adf7",
   "metadata": {},
   "outputs": [
    {
     "data": {
      "text/html": [
       "<div>\n",
       "<style scoped>\n",
       "    .dataframe tbody tr th:only-of-type {\n",
       "        vertical-align: middle;\n",
       "    }\n",
       "\n",
       "    .dataframe tbody tr th {\n",
       "        vertical-align: top;\n",
       "    }\n",
       "\n",
       "    .dataframe thead th {\n",
       "        text-align: right;\n",
       "    }\n",
       "</style>\n",
       "<table border=\"1\" class=\"dataframe\">\n",
       "  <thead>\n",
       "    <tr style=\"text-align: right;\">\n",
       "      <th></th>\n",
       "      <th>point_name</th>\n",
       "      <th>latitude</th>\n",
       "      <th>longitude</th>\n",
       "      <th>2020-04-15</th>\n",
       "      <th>2020-04-16</th>\n",
       "      <th>2020-04-17</th>\n",
       "      <th>2020-04-18</th>\n",
       "    </tr>\n",
       "  </thead>\n",
       "  <tbody>\n",
       "    <tr>\n",
       "      <th>0</th>\n",
       "      <td>point_00</td>\n",
       "      <td>39.963356</td>\n",
       "      <td>-77.010932</td>\n",
       "      <td>06:29:00</td>\n",
       "      <td>06:28:00</td>\n",
       "      <td>06:26:00</td>\n",
       "      <td>06:25:00</td>\n",
       "    </tr>\n",
       "    <tr>\n",
       "      <th>1</th>\n",
       "      <td>point_01</td>\n",
       "      <td>40.546199</td>\n",
       "      <td>-77.101676</td>\n",
       "      <td>06:29:00</td>\n",
       "      <td>06:27:00</td>\n",
       "      <td>06:26:00</td>\n",
       "      <td>06:24:00</td>\n",
       "    </tr>\n",
       "    <tr>\n",
       "      <th>2</th>\n",
       "      <td>point_02</td>\n",
       "      <td>40.071716</td>\n",
       "      <td>-77.920263</td>\n",
       "      <td>06:33:00</td>\n",
       "      <td>06:31:00</td>\n",
       "      <td>06:30:00</td>\n",
       "      <td>06:28:00</td>\n",
       "    </tr>\n",
       "    <tr>\n",
       "      <th>3</th>\n",
       "      <td>point_03</td>\n",
       "      <td>39.632356</td>\n",
       "      <td>-78.042123</td>\n",
       "      <td>06:34:00</td>\n",
       "      <td>06:32:00</td>\n",
       "      <td>06:31:00</td>\n",
       "      <td>06:30:00</td>\n",
       "    </tr>\n",
       "    <tr>\n",
       "      <th>4</th>\n",
       "      <td>point_04</td>\n",
       "      <td>40.541967</td>\n",
       "      <td>-78.877888</td>\n",
       "      <td>06:36:00</td>\n",
       "      <td>06:35:00</td>\n",
       "      <td>06:33:00</td>\n",
       "      <td>06:32:00</td>\n",
       "    </tr>\n",
       "  </tbody>\n",
       "</table>\n",
       "</div>"
      ],
      "text/plain": [
       "  point_name   latitude  longitude 2020-04-15 2020-04-16 2020-04-17 2020-04-18\n",
       "0   point_00  39.963356 -77.010932   06:29:00   06:28:00   06:26:00   06:25:00\n",
       "1   point_01  40.546199 -77.101676   06:29:00   06:27:00   06:26:00   06:24:00\n",
       "2   point_02  40.071716 -77.920263   06:33:00   06:31:00   06:30:00   06:28:00\n",
       "3   point_03  39.632356 -78.042123   06:34:00   06:32:00   06:31:00   06:30:00\n",
       "4   point_04  40.541967 -78.877888   06:36:00   06:35:00   06:33:00   06:32:00"
      ]
     },
     "execution_count": 8,
     "metadata": {},
     "output_type": "execute_result"
    }
   ],
   "source": [
    "sunrise_times = points.copy()\n",
    "for d in datelist:\n",
    "    col_name = str(d.date()) #use the YYYY-MM-DD date format for the column name\n",
    "    sunrise_times[col_name]=[\n",
    "        get_sunrise(row['latitude'],row['longitude'],d) for _,row in sunrise_times.iterrows()\n",
    "    ]\n",
    "sunrise_times"
   ]
  }
 ],
 "metadata": {
  "kernelspec": {
   "display_name": "opso_dev",
   "language": "python",
   "name": "opso_dev"
  },
  "language_info": {
   "codemirror_mode": {
    "name": "ipython",
    "version": 3
   },
   "file_extension": ".py",
   "mimetype": "text/x-python",
   "name": "python",
   "nbconvert_exporter": "python",
   "pygments_lexer": "ipython3",
   "version": "3.9.13"
  }
 },
 "nbformat": 4,
 "nbformat_minor": 5
}
