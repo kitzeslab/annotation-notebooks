{
 "cells": [
  {
   "cell_type": "markdown",
   "id": "e2466b2e-0cdb-4089-ac76-719924d49702",
   "metadata": {},
   "source": [
    "# Generating predictions using the CNN\n",
    "\n",
    "This assumes you've used the `train_form_cfg.ipynb` notebook to train a CNN and save weights in './run_1/latest.pt', and also to create the file `./validation_set.csv` listing file, start, and end time of clips, and their associated labels\n",
    "\n",
    "Make a copy of './configs/default.yml' and edit parameters as desired. Point to your config file in second cell.\n",
    "\n",
    "Run this notebook to load a trained CNN and use it to generate predictions on audio data. For documentation and tutorials, visit [opensoundscape.org](https://opensoundscape.org). "
   ]
  },
  {
   "cell_type": "markdown",
   "id": "0634b55f-ac86-4532-b170-55a9a8fbada5",
   "metadata": {},
   "source": [
    "Import packages:"
   ]
  },
  {
   "cell_type": "code",
   "execution_count": 27,
   "id": "ced44ad5-4d92-4ff0-b8a4-3f84d5084d5f",
   "metadata": {},
   "outputs": [],
   "source": [
    "import opensoundscape"
   ]
  },
  {
   "cell_type": "code",
   "execution_count": 25,
   "id": "440df517-1a68-4899-b352-5f7dccdc7246",
   "metadata": {},
   "outputs": [],
   "source": [
    "from opensoundscape import CNN\n",
    "from load_cfg import cnn_from_cfg\n",
    "import yaml\n",
    "import pandas as pd\n",
    "import wandb"
   ]
  },
  {
   "cell_type": "markdown",
   "id": "002b519c-7a8b-468f-a72c-0f29f36f6980",
   "metadata": {},
   "source": [
    "Load config file: \n",
    "change the file path to the location of your config file"
   ]
  },
  {
   "cell_type": "code",
   "execution_count": 58,
   "id": "0f2235ea-ff3b-4220-8128-b70f0d40e1cd",
   "metadata": {},
   "outputs": [],
   "source": [
    "config_file = \"./configs/default.yml\"\n",
    "\n",
    "with open(config_file, \"r\") as f:\n",
    "    cfg = yaml.safe_load(f)"
   ]
  },
  {
   "cell_type": "code",
   "execution_count": 66,
   "id": "dec396cb-6003-4296-82d0-211a01e5b154",
   "metadata": {},
   "outputs": [],
   "source": [
    "cnn = cnn_from_cfg(config_file)\n",
    "cnn.load_weights('./run_1/latest.pt')"
   ]
  },
  {
   "cell_type": "markdown",
   "id": "965929a1-7b74-4d47-892a-c5e401d9f61c",
   "metadata": {},
   "source": [
    "We demonstrate prediction for two use cases:\n",
    "\n",
    "1. The user has created a dataframe with the exact start and end times of each clip\n",
    "\n",
    "2. The user passes a list of audio files, which are automatically split into appropriate length clips during .predict()"
   ]
  },
  {
   "cell_type": "markdown",
   "id": "5c850f2a-8416-4377-81a8-1e8a8723d450",
   "metadata": {},
   "source": [
    "## Predict on a pre-defined table of clips"
   ]
  },
  {
   "cell_type": "code",
   "execution_count": 67,
   "id": "2d31a2ba-eb68-4c92-b5ae-19f69a2333d0",
   "metadata": {},
   "outputs": [],
   "source": [
    "# load the validation dataset into a dataframe, with ('file','start_time','end_time') as the index\n",
    "samples = pd.read_csv('./validation_set.csv',index_col=[0,1,2]).sample(200)\n",
    "\n",
    "# generate predictions for each clip using settings from the config file\n",
    "preds = cnn.predict(samples,**cfg['predict'])"
   ]
  },
  {
   "cell_type": "markdown",
   "id": "14235e1f-a698-43d4-bd38-c0d54cb8fd48",
   "metadata": {},
   "source": [
    "The returned df looks very similar to the original, but has cnn output scores for each sample and class (column). "
   ]
  },
  {
   "cell_type": "code",
   "execution_count": 68,
   "id": "ad28a927-ea90-447d-a406-c20a83168ec5",
   "metadata": {},
   "outputs": [
    {
     "data": {
      "text/html": [
       "<div>\n",
       "<style scoped>\n",
       "    .dataframe tbody tr th:only-of-type {\n",
       "        vertical-align: middle;\n",
       "    }\n",
       "\n",
       "    .dataframe tbody tr th {\n",
       "        vertical-align: top;\n",
       "    }\n",
       "\n",
       "    .dataframe thead th {\n",
       "        text-align: right;\n",
       "    }\n",
       "</style>\n",
       "<table border=\"1\" class=\"dataframe\">\n",
       "  <thead>\n",
       "    <tr style=\"text-align: right;\">\n",
       "      <th></th>\n",
       "      <th></th>\n",
       "      <th></th>\n",
       "      <th>A</th>\n",
       "      <th>B</th>\n",
       "      <th>C</th>\n",
       "      <th>D</th>\n",
       "      <th>E</th>\n",
       "    </tr>\n",
       "    <tr>\n",
       "      <th>file</th>\n",
       "      <th>start_time</th>\n",
       "      <th>end_time</th>\n",
       "      <th></th>\n",
       "      <th></th>\n",
       "      <th></th>\n",
       "      <th></th>\n",
       "      <th></th>\n",
       "    </tr>\n",
       "  </thead>\n",
       "  <tbody>\n",
       "    <tr>\n",
       "      <th>/Users/SML161/labeled_datasets/rana_sierrae_2022/mp3/sine2022a_MSD-0558_20220622_034500_0-10s.mp3</th>\n",
       "      <th>4.0</th>\n",
       "      <th>6.0</th>\n",
       "      <td>-6.000661</td>\n",
       "      <td>-23.155195</td>\n",
       "      <td>-14.586831</td>\n",
       "      <td>-17.094234</td>\n",
       "      <td>-12.850677</td>\n",
       "    </tr>\n",
       "    <tr>\n",
       "      <th>/Users/SML161/labeled_datasets/rana_sierrae_2022/mp3/sine2022a_MSD-0558_20220622_103000_0-10s.mp3</th>\n",
       "      <th>3.0</th>\n",
       "      <th>5.0</th>\n",
       "      <td>-6.004264</td>\n",
       "      <td>-23.164827</td>\n",
       "      <td>-14.594211</td>\n",
       "      <td>-17.101292</td>\n",
       "      <td>-12.855599</td>\n",
       "    </tr>\n",
       "  </tbody>\n",
       "</table>\n",
       "</div>"
      ],
      "text/plain": [
       "                                                                               A  \\\n",
       "file                                               start_time end_time             \n",
       "/Users/SML161/labeled_datasets/rana_sierrae_202... 4.0        6.0      -6.000661   \n",
       "/Users/SML161/labeled_datasets/rana_sierrae_202... 3.0        5.0      -6.004264   \n",
       "\n",
       "                                                                                B  \\\n",
       "file                                               start_time end_time              \n",
       "/Users/SML161/labeled_datasets/rana_sierrae_202... 4.0        6.0      -23.155195   \n",
       "/Users/SML161/labeled_datasets/rana_sierrae_202... 3.0        5.0      -23.164827   \n",
       "\n",
       "                                                                                C  \\\n",
       "file                                               start_time end_time              \n",
       "/Users/SML161/labeled_datasets/rana_sierrae_202... 4.0        6.0      -14.586831   \n",
       "/Users/SML161/labeled_datasets/rana_sierrae_202... 3.0        5.0      -14.594211   \n",
       "\n",
       "                                                                                D  \\\n",
       "file                                               start_time end_time              \n",
       "/Users/SML161/labeled_datasets/rana_sierrae_202... 4.0        6.0      -17.094234   \n",
       "/Users/SML161/labeled_datasets/rana_sierrae_202... 3.0        5.0      -17.101292   \n",
       "\n",
       "                                                                                E  \n",
       "file                                               start_time end_time             \n",
       "/Users/SML161/labeled_datasets/rana_sierrae_202... 4.0        6.0      -12.850677  \n",
       "/Users/SML161/labeled_datasets/rana_sierrae_202... 3.0        5.0      -12.855599  "
      ]
     },
     "execution_count": 68,
     "metadata": {},
     "output_type": "execute_result"
    }
   ],
   "source": [
    "preds.head(2)"
   ]
  },
  {
   "cell_type": "markdown",
   "id": "95a0b398-4502-464f-bb5e-410492a5b075",
   "metadata": {},
   "source": [
    "Let's evaluate with a few metrics. \n",
    "\n",
    "We expect terrible performance since we didn't actually train the model for long"
   ]
  },
  {
   "cell_type": "code",
   "execution_count": 71,
   "id": "6c1c2465-5615-4cbf-a45c-47370f0846cd",
   "metadata": {},
   "outputs": [
    {
     "name": "stdout",
     "output_type": "stream",
     "text": [
      "Metrics:\n",
      "\tMAP: 0.089\n",
      "Validation set mean avg precision: 0.09\n",
      "Validation set A class avg precision: 0.27\n",
      "Validation set B class avg precision: 0.01\n",
      "Validation set C class avg precision: 0.04\n",
      "Validation set D class avg precision: 0.03\n",
      "Validation set E class avg precision: 0.09\n"
     ]
    }
   ],
   "source": [
    "_, metrics = cnn.eval(samples.values,preds.values)\n",
    "print(f\"Validation set mean avg precision: {metrics['map']:0.2f}\")\n",
    "for c in preds.columns:\n",
    "    print(f\"Validation set {c} class avg precision: {metrics[c]['avg_precision']:0.2f}\")"
   ]
  },
  {
   "cell_type": "markdown",
   "id": "fcaf8663-795e-43db-8444-de51a49e36e1",
   "metadata": {},
   "source": [
    "## Predict on list of audio files\n",
    "\n",
    "If a list of audio files is passed to `predict`, each file is automatically preprocessed into the correct-length clips. Overlap between clips is defined in the config by `cfg['predict']['overlap_fraction']`."
   ]
  },
  {
   "cell_type": "code",
   "execution_count": 41,
   "id": "da71203b-4c7b-4f94-929f-afe44b2c6cb8",
   "metadata": {},
   "outputs": [
    {
     "data": {
      "text/plain": [
       "['/Users/SML161/labeled_datasets/rana_sierrae_2022/mp3/sine2022a_MSD-0558_20220621_043000_0-10s.mp3',\n",
       " '/Users/SML161/labeled_datasets/rana_sierrae_2022/mp3/sine2022a_MSD-0558_20220623_133000_0-10s.mp3']"
      ]
     },
     "execution_count": 41,
     "metadata": {},
     "output_type": "execute_result"
    }
   ],
   "source": [
    "files = list(preds.reset_index()['file'][0:2])\n",
    "files"
   ]
  },
  {
   "cell_type": "code",
   "execution_count": 64,
   "id": "7f095905-d20b-4d92-b8d1-25492ffd720b",
   "metadata": {},
   "outputs": [
    {
     "data": {
      "text/html": [
       "<div>\n",
       "<style scoped>\n",
       "    .dataframe tbody tr th:only-of-type {\n",
       "        vertical-align: middle;\n",
       "    }\n",
       "\n",
       "    .dataframe tbody tr th {\n",
       "        vertical-align: top;\n",
       "    }\n",
       "\n",
       "    .dataframe thead th {\n",
       "        text-align: right;\n",
       "    }\n",
       "</style>\n",
       "<table border=\"1\" class=\"dataframe\">\n",
       "  <thead>\n",
       "    <tr style=\"text-align: right;\">\n",
       "      <th></th>\n",
       "      <th></th>\n",
       "      <th></th>\n",
       "      <th>A</th>\n",
       "      <th>B</th>\n",
       "      <th>C</th>\n",
       "      <th>D</th>\n",
       "      <th>E</th>\n",
       "    </tr>\n",
       "    <tr>\n",
       "      <th>file</th>\n",
       "      <th>start_time</th>\n",
       "      <th>end_time</th>\n",
       "      <th></th>\n",
       "      <th></th>\n",
       "      <th></th>\n",
       "      <th></th>\n",
       "      <th></th>\n",
       "    </tr>\n",
       "  </thead>\n",
       "  <tbody>\n",
       "    <tr>\n",
       "      <th rowspan=\"3\" valign=\"top\">/Users/SML161/labeled_datasets/rana_sierrae_2022/mp3/sine2022a_MSD-0558_20220621_043000_0-10s.mp3</th>\n",
       "      <th>0.0</th>\n",
       "      <th>3.0</th>\n",
       "      <td>-6.481035</td>\n",
       "      <td>-22.489037</td>\n",
       "      <td>-14.089330</td>\n",
       "      <td>-15.926941</td>\n",
       "      <td>-13.430865</td>\n",
       "    </tr>\n",
       "    <tr>\n",
       "      <th>3.0</th>\n",
       "      <th>6.0</th>\n",
       "      <td>-6.480886</td>\n",
       "      <td>-22.487982</td>\n",
       "      <td>-14.089136</td>\n",
       "      <td>-15.926260</td>\n",
       "      <td>-13.430550</td>\n",
       "    </tr>\n",
       "    <tr>\n",
       "      <th>6.0</th>\n",
       "      <th>9.0</th>\n",
       "      <td>-6.480846</td>\n",
       "      <td>-22.487713</td>\n",
       "      <td>-14.089093</td>\n",
       "      <td>-15.926157</td>\n",
       "      <td>-13.430593</td>\n",
       "    </tr>\n",
       "    <tr>\n",
       "      <th rowspan=\"2\" valign=\"top\">/Users/SML161/labeled_datasets/rana_sierrae_2022/mp3/sine2022a_MSD-0558_20220623_133000_0-10s.mp3</th>\n",
       "      <th>0.0</th>\n",
       "      <th>3.0</th>\n",
       "      <td>-6.481500</td>\n",
       "      <td>-22.491108</td>\n",
       "      <td>-14.090951</td>\n",
       "      <td>-15.928777</td>\n",
       "      <td>-13.432294</td>\n",
       "    </tr>\n",
       "    <tr>\n",
       "      <th>3.0</th>\n",
       "      <th>6.0</th>\n",
       "      <td>-6.481314</td>\n",
       "      <td>-22.490112</td>\n",
       "      <td>-14.090863</td>\n",
       "      <td>-15.928102</td>\n",
       "      <td>-13.432050</td>\n",
       "    </tr>\n",
       "  </tbody>\n",
       "</table>\n",
       "</div>"
      ],
      "text/plain": [
       "                                                                               A  \\\n",
       "file                                               start_time end_time             \n",
       "/Users/SML161/labeled_datasets/rana_sierrae_202... 0.0        3.0      -6.481035   \n",
       "                                                   3.0        6.0      -6.480886   \n",
       "                                                   6.0        9.0      -6.480846   \n",
       "/Users/SML161/labeled_datasets/rana_sierrae_202... 0.0        3.0      -6.481500   \n",
       "                                                   3.0        6.0      -6.481314   \n",
       "\n",
       "                                                                                B  \\\n",
       "file                                               start_time end_time              \n",
       "/Users/SML161/labeled_datasets/rana_sierrae_202... 0.0        3.0      -22.489037   \n",
       "                                                   3.0        6.0      -22.487982   \n",
       "                                                   6.0        9.0      -22.487713   \n",
       "/Users/SML161/labeled_datasets/rana_sierrae_202... 0.0        3.0      -22.491108   \n",
       "                                                   3.0        6.0      -22.490112   \n",
       "\n",
       "                                                                                C  \\\n",
       "file                                               start_time end_time              \n",
       "/Users/SML161/labeled_datasets/rana_sierrae_202... 0.0        3.0      -14.089330   \n",
       "                                                   3.0        6.0      -14.089136   \n",
       "                                                   6.0        9.0      -14.089093   \n",
       "/Users/SML161/labeled_datasets/rana_sierrae_202... 0.0        3.0      -14.090951   \n",
       "                                                   3.0        6.0      -14.090863   \n",
       "\n",
       "                                                                                D  \\\n",
       "file                                               start_time end_time              \n",
       "/Users/SML161/labeled_datasets/rana_sierrae_202... 0.0        3.0      -15.926941   \n",
       "                                                   3.0        6.0      -15.926260   \n",
       "                                                   6.0        9.0      -15.926157   \n",
       "/Users/SML161/labeled_datasets/rana_sierrae_202... 0.0        3.0      -15.928777   \n",
       "                                                   3.0        6.0      -15.928102   \n",
       "\n",
       "                                                                                E  \n",
       "file                                               start_time end_time             \n",
       "/Users/SML161/labeled_datasets/rana_sierrae_202... 0.0        3.0      -13.430865  \n",
       "                                                   3.0        6.0      -13.430550  \n",
       "                                                   6.0        9.0      -13.430593  \n",
       "/Users/SML161/labeled_datasets/rana_sierrae_202... 0.0        3.0      -13.432294  \n",
       "                                                   3.0        6.0      -13.432050  "
      ]
     },
     "execution_count": 64,
     "metadata": {},
     "output_type": "execute_result"
    }
   ],
   "source": [
    "preds2 = cnn.predict(files,**cfg['predict'])\n",
    "preds2.head()"
   ]
  }
 ],
 "metadata": {
  "kernelspec": {
   "display_name": "opso_dev",
   "language": "python",
   "name": "opso_dev"
  },
  "language_info": {
   "codemirror_mode": {
    "name": "ipython",
    "version": 3
   },
   "file_extension": ".py",
   "mimetype": "text/x-python",
   "name": "python",
   "nbconvert_exporter": "python",
   "pygments_lexer": "ipython3",
   "version": "3.9.13"
  }
 },
 "nbformat": 4,
 "nbformat_minor": 5
}
