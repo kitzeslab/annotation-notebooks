{
 "cells": [
  {
   "cell_type": "markdown",
   "id": "2d152a77-3baa-4b52-a51a-dd7b5d7a75c4",
   "metadata": {},
   "source": [
    "# Managing GPS Points: \n",
    "\n",
    "### convert between UTM and Lat Lon, and create KML files\n",
    "\n",
    "This notebook uses two packages which make it super easy to convert back and forth between UTM and Lat/Lon USG84, and to create KML files (which are used by mapping software like Gaia and Garmin GPS units) from a table (or csv file) of points with coordinates.\n",
    "\n",
    "First, get the packages:\n",
    "```\n",
    "pip install utm simplekml\n",
    "```"
   ]
  },
  {
   "cell_type": "markdown",
   "id": "bab6ca51-60ec-4ced-aaea-988804702be6",
   "metadata": {
    "tags": []
   },
   "source": [
    "## Convert between UTM and Lat/Lon\n",
    "This part uses the package utm (`pip install utm` to get the package)"
   ]
  },
  {
   "cell_type": "code",
   "execution_count": 1,
   "id": "0510d9b4-68d9-4e51-9483-6db766186275",
   "metadata": {},
   "outputs": [],
   "source": [
    "import utm\n",
    "import pandas as pd\n",
    "import numpy as np"
   ]
  },
  {
   "cell_type": "markdown",
   "id": "90d47f3e-d6c3-4c93-b0c8-81e74fab0e0c",
   "metadata": {},
   "source": [
    "lets create some imaginary points for the sake of example:"
   ]
  },
  {
   "cell_type": "code",
   "execution_count": 2,
   "id": "c056c6b5-8fa2-4d4d-9ba8-49c64f789726",
   "metadata": {
    "tags": []
   },
   "outputs": [
    {
     "data": {
      "text/html": [
       "<div>\n",
       "<style scoped>\n",
       "    .dataframe tbody tr th:only-of-type {\n",
       "        vertical-align: middle;\n",
       "    }\n",
       "\n",
       "    .dataframe tbody tr th {\n",
       "        vertical-align: top;\n",
       "    }\n",
       "\n",
       "    .dataframe thead th {\n",
       "        text-align: right;\n",
       "    }\n",
       "</style>\n",
       "<table border=\"1\" class=\"dataframe\">\n",
       "  <thead>\n",
       "    <tr style=\"text-align: right;\">\n",
       "      <th></th>\n",
       "      <th>point_name</th>\n",
       "      <th>latitude</th>\n",
       "      <th>longitude</th>\n",
       "    </tr>\n",
       "  </thead>\n",
       "  <tbody>\n",
       "    <tr>\n",
       "      <th>0</th>\n",
       "      <td>Peabody MA</td>\n",
       "      <td>42.536457</td>\n",
       "      <td>-70.985786</td>\n",
       "    </tr>\n",
       "    <tr>\n",
       "      <th>1</th>\n",
       "      <td>Newton MA</td>\n",
       "      <td>42.341042</td>\n",
       "      <td>-71.217133</td>\n",
       "    </tr>\n",
       "  </tbody>\n",
       "</table>\n",
       "</div>"
      ],
      "text/plain": [
       "   point_name   latitude  longitude\n",
       "0  Peabody MA  42.536457 -70.985786\n",
       "1   Newton MA  42.341042 -71.217133"
      ]
     },
     "execution_count": 2,
     "metadata": {},
     "output_type": "execute_result"
    }
   ],
   "source": [
    "points = pd.read_csv('../resources/coords.csv')\n",
    "points"
   ]
  },
  {
   "cell_type": "markdown",
   "id": "fb9db143-01f7-48f6-a643-c04b7e68b682",
   "metadata": {},
   "source": [
    "### Two easy commands for converting between UTM and Lat/Lon\n",
    "\n",
    "utm.from_latlon(lat,lon) #returns UTM E, N, zone #, zone letter\n",
    "\n",
    "utm.to_latlon(easting, northing, zone_num, zone_letter) #returns lat lon"
   ]
  },
  {
   "cell_type": "code",
   "execution_count": 3,
   "id": "f8b22067-0904-41d2-adfd-60bc0b0cd961",
   "metadata": {},
   "outputs": [
    {
     "data": {
      "text/html": [
       "<div>\n",
       "<style scoped>\n",
       "    .dataframe tbody tr th:only-of-type {\n",
       "        vertical-align: middle;\n",
       "    }\n",
       "\n",
       "    .dataframe tbody tr th {\n",
       "        vertical-align: top;\n",
       "    }\n",
       "\n",
       "    .dataframe thead th {\n",
       "        text-align: right;\n",
       "    }\n",
       "</style>\n",
       "<table border=\"1\" class=\"dataframe\">\n",
       "  <thead>\n",
       "    <tr style=\"text-align: right;\">\n",
       "      <th></th>\n",
       "      <th>point_name</th>\n",
       "      <th>latitude</th>\n",
       "      <th>longitude</th>\n",
       "      <th>utm_E</th>\n",
       "      <th>utm_N</th>\n",
       "      <th>utm_zone</th>\n",
       "      <th>utm_letter</th>\n",
       "    </tr>\n",
       "  </thead>\n",
       "  <tbody>\n",
       "    <tr>\n",
       "      <th>0</th>\n",
       "      <td>Peabody MA</td>\n",
       "      <td>42.536457</td>\n",
       "      <td>-70.985786</td>\n",
       "      <td>336927.601728</td>\n",
       "      <td>4.711252e+06</td>\n",
       "      <td>19.0</td>\n",
       "      <td>T</td>\n",
       "    </tr>\n",
       "    <tr>\n",
       "      <th>1</th>\n",
       "      <td>Newton MA</td>\n",
       "      <td>42.341042</td>\n",
       "      <td>-71.217133</td>\n",
       "      <td>317361.722771</td>\n",
       "      <td>4.690024e+06</td>\n",
       "      <td>19.0</td>\n",
       "      <td>T</td>\n",
       "    </tr>\n",
       "  </tbody>\n",
       "</table>\n",
       "</div>"
      ],
      "text/plain": [
       "   point_name   latitude  longitude          utm_E         utm_N  utm_zone  \\\n",
       "0  Peabody MA  42.536457 -70.985786  336927.601728  4.711252e+06      19.0   \n",
       "1   Newton MA  42.341042 -71.217133  317361.722771  4.690024e+06      19.0   \n",
       "\n",
       "  utm_letter  \n",
       "0          T  \n",
       "1          T  "
      ]
     },
     "execution_count": 3,
     "metadata": {},
     "output_type": "execute_result"
    }
   ],
   "source": [
    "for i, row in points.iterrows():\n",
    "    utm_E,utm_N,utm_zone,utm_letter = utm.from_latlon(row.latitude,row.longitude)\n",
    "    points.at[i,'utm_E']=utm_E\n",
    "    points.at[i,'utm_N']=utm_N\n",
    "    points.at[i,'utm_zone']=utm_zone\n",
    "    points.at[i,'utm_letter']=utm_letter\n",
    "points"
   ]
  },
  {
   "cell_type": "markdown",
   "id": "96883430-7a9c-4a12-8bab-4974dc62cb1a",
   "metadata": {},
   "source": [
    "The package also convert from UTM to Lat/Lon:"
   ]
  },
  {
   "cell_type": "code",
   "execution_count": 4,
   "id": "280f0306-3b48-43df-b5f3-a40d15e1bc73",
   "metadata": {},
   "outputs": [
    {
     "data": {
      "text/plain": [
       "(0    42.536457\n",
       " 1    42.341042\n",
       " dtype: float64,\n",
       " 0   -70.985786\n",
       " 1   -71.217133\n",
       " dtype: float64)"
      ]
     },
     "execution_count": 4,
     "metadata": {},
     "output_type": "execute_result"
    }
   ],
   "source": [
    "utm.to_latlon(points[\"utm_E\"],points[\"utm_N\"],19,'T')"
   ]
  },
  {
   "cell_type": "markdown",
   "id": "5fa478cc-8556-4499-9cfd-21d4297cb4f9",
   "metadata": {},
   "source": [
    "## Write KML file from a csv / dataframe of Lat/Lon coordinates\n",
    "\n",
    "This part uses the package utm (`pip install simplekml` to get the package)\n",
    "\n",
    "Then we can simply use `kml.newpoint(name, [(lon,lat)])` to add each point and `kml.save(path)` to save a kml file\n",
    "\n",
    "The simplekml package can do much more involved/fancy things with the points if you want to add more details. "
   ]
  },
  {
   "cell_type": "code",
   "execution_count": 7,
   "id": "7f5f24bd-e3e1-4e3f-9b83-f5b6445a9bc0",
   "metadata": {},
   "outputs": [],
   "source": [
    "import simplekml\n",
    "\n",
    "kml=simplekml.Kml()\n",
    "for i, row in points.iterrows():\n",
    "    #note that it expects lon, lat rather than lat, lon\n",
    "    kml.newpoint(name=row['point_name'], \n",
    "                 coords=[(row['longitude'],row['latitude'])]\n",
    "                )\n",
    "\n",
    "# uncomment this line to save the kml file:\n",
    "# kml.save('points.kml')"
   ]
  }
 ],
 "metadata": {
  "kernelspec": {
   "display_name": "gis",
   "language": "python",
   "name": "gis"
  },
  "language_info": {
   "codemirror_mode": {
    "name": "ipython",
    "version": 3
   },
   "file_extension": ".py",
   "mimetype": "text/x-python",
   "name": "python",
   "nbconvert_exporter": "python",
   "pygments_lexer": "ipython3",
   "version": "3.9.16"
  }
 },
 "nbformat": 4,
 "nbformat_minor": 5
}
