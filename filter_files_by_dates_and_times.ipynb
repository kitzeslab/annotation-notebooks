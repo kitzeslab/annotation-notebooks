{
 "cells": [
  {
   "cell_type": "markdown",
   "id": "792f2930-48e1-4016-905a-fd4ad0b0ff06",
   "metadata": {},
   "source": [
    "# Filter a list of audiomoth files by their dates and start times"
   ]
  },
  {
   "cell_type": "code",
   "execution_count": 1,
   "id": "36564711-a085-4e98-93e6-4d960e395326",
   "metadata": {},
   "outputs": [],
   "source": [
    "import datetime\n",
    "from opensoundscape.audiomoth import audiomoth_start_time\n",
    "import pytz\n",
    "import numpy as np\n",
    "import pandas as pd\n",
    "from pathlib import Path\n",
    "from glob import glob"
   ]
  },
  {
   "cell_type": "markdown",
   "id": "c784d9c9-3420-4467-9f9b-3ee268202386",
   "metadata": {},
   "source": [
    "### Define the local timezone\n",
    "- all date ranges, time ranges, and comparisons will use this time zone\n",
    "- AudioMoth start time from file name will be converted to this time zone automatically\n",
    "\n",
    "To list all timezones available, print `pytz.all_timezones`"
   ]
  },
  {
   "cell_type": "code",
   "execution_count": 2,
   "id": "4c7a59a7-fe41-4628-9f71-9c93f884d4d4",
   "metadata": {},
   "outputs": [],
   "source": [
    "time_zone = pytz.timezone('US/Eastern')"
   ]
  },
  {
   "cell_type": "markdown",
   "id": "49722af5-87bb-48a8-a59f-6f9d4ea06e0b",
   "metadata": {},
   "source": [
    "## select date and time ranges\n",
    "note that these are the allowed recording **start times** (eg if a recording starts within a period and extends beyond it, it will be included)\n",
    "\n",
    "In this example, we filter to files starting between 8 and 9pm Eastern time on dates from April 15 to May 5 from any of 3 years: 2020, 2021, or 2022"
   ]
  },
  {
   "cell_type": "code",
   "execution_count": 3,
   "id": "8b70351b-af21-442e-a0c6-71e022f29a15",
   "metadata": {},
   "outputs": [],
   "source": [
    "time_ranges = [\n",
    "    [datetime.time(20,0,0),datetime.time(21,0,0)], \n",
    "    # can list multiple time periods to include\n",
    "]\n",
    "\n",
    "date_ranges = [\n",
    "    [datetime.date(2020,4,15),datetime.date(2020,5,5)],\n",
    "    [datetime.date(2021,4,15),datetime.date(2021,5,5)],\n",
    "    [datetime.date(2022,4,15),datetime.date(2022,5,5)],\n",
    "    #can list multiple date ranges to include\n",
    "]"
   ]
  },
  {
   "cell_type": "markdown",
   "id": "2d61bc41-29c3-481f-a122-62ba7d1e2191",
   "metadata": {},
   "source": [
    "get a list of all audio files in your dataset\n",
    " - this globbing pattern assumes audio files are .WAV and located in subfolders of the `dataset_path`. For instance, audio files would have paths like, `/path/to/dataset/folder1/file1.WAV`"
   ]
  },
  {
   "cell_type": "code",
   "execution_count": 18,
   "id": "58ffc1fb-a770-450d-bf54-fe9c0ffcde76",
   "metadata": {},
   "outputs": [
    {
     "name": "stdout",
     "output_type": "stream",
     "text": [
      "Found 2 files\n"
     ]
    }
   ],
   "source": [
    "#folder containig your audio data\n",
    "dataset_path = f'/path/to/dataset/' \n",
    "\n",
    "files = glob(f\"{dataset_path}/*/*.WAV\")\n",
    "\n",
    "#if you don't have subfolders, use this line instead:\n",
    "# files = glob(f\"{dataset_path}/*.WAV\")\n",
    "\n",
    "df = pd.DataFrame({'file':files})\n",
    "print(f\"Found {len(df)} files\")"
   ]
  },
  {
   "cell_type": "markdown",
   "id": "26e2e418-021e-44e4-b55a-8f29b5ca0d96",
   "metadata": {},
   "source": [
    "## Filter files\n",
    "This cell filters the dataframe to include only files starting in one of the specified date and time ranges"
   ]
  },
  {
   "cell_type": "code",
   "execution_count": 21,
   "id": "8dbd666f-fec3-44eb-98cb-512e9274202e",
   "metadata": {},
   "outputs": [
    {
     "name": "stdout",
     "output_type": "stream",
     "text": [
      "Filtered by date: now has 0 files\n",
      "Filtered by start times: now has 0 files\n"
     ]
    }
   ],
   "source": [
    "## FILTER FILES ## \n",
    "\n",
    "# add date and time information to the dataframe\n",
    "df['datetime_utc'] = df[\"file\"].apply(lambda f: audiomoth_start_time(Path(f).name))\n",
    "df['datetime_edt'] = df['datetime_utc'].apply(lambda t: t.astimezone(time_zone)) \n",
    "df['date'] = df['datetime_edt'].apply(lambda t: t.date()) \n",
    "df['time'] = df['datetime_edt'].apply(lambda t: t.time())\n",
    "\n",
    "def in_range(x,r): #helper function\n",
    "    if x>=r[0] and x<=r[1]:\n",
    "        return True\n",
    "    return False\n",
    "\n",
    "#filter to files that *start in* one of the date ranges\n",
    "#note that the start time and date are converted to the user-specified timezone before\n",
    "#checking if they fall within the date and time range\n",
    "df = df[df['date'].apply(lambda t: max([in_range(t, date_range) for date_range in date_ranges]))]\n",
    "print(f\"Filtered by date: now has {len(df)} files\")\n",
    "\n",
    "#filter to files *starting in* one of the time_ranges\n",
    "df = df[df['time'].apply(lambda t: max([in_range(t, time_range) for time_range in time_ranges]))]\n",
    "print(f\"Filtered by start times: now has {len(df)} files\")"
   ]
  }
 ],
 "metadata": {
  "kernelspec": {
   "display_name": "opso_dev",
   "language": "python",
   "name": "opso_dev"
  },
  "language_info": {
   "codemirror_mode": {
    "name": "ipython",
    "version": 3
   },
   "file_extension": ".py",
   "mimetype": "text/x-python",
   "name": "python",
   "nbconvert_exporter": "python",
   "pygments_lexer": "ipython3",
   "version": "3.9.13"
  }
 },
 "nbformat": 4,
 "nbformat_minor": 5
}
